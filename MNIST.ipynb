{
  "nbformat": 4,
  "nbformat_minor": 0,
  "metadata": {
    "colab": {
      "name": "MNIST.ipynb",
      "version": "0.3.2",
      "provenance": [],
      "include_colab_link": true
    },
    "kernelspec": {
      "name": "python3",
      "display_name": "Python 3"
    },
    "accelerator": "GPU"
  },
  "cells": [
    {
      "cell_type": "markdown",
      "metadata": {
        "id": "view-in-github",
        "colab_type": "text"
      },
      "source": [
        "[View in Colaboratory](https://colab.research.google.com/github/varunbhanot/CV_Using_DL/blob/master/MNIST.ipynb)"
      ]
    },
    {
      "metadata": {
        "id": "jofN2GwhASIc",
        "colab_type": "code",
        "colab": {
          "base_uri": "https://localhost:8080/",
          "height": 170
        },
        "outputId": "e802726d-6ce6-4af3-b4b3-cb4607ad0510"
      },
      "cell_type": "code",
      "source": [
        "!pip install kaggle"
      ],
      "execution_count": 1,
      "outputs": [
        {
          "output_type": "stream",
          "text": [
            "Requirement already satisfied: kaggle in /usr/local/lib/python3.6/dist-packages (1.3.11.1)\r\n",
            "Requirement already satisfied: python-dateutil in /usr/local/lib/python3.6/dist-packages (from kaggle) (2.5.3)\r\n",
            "Requirement already satisfied: requests in /usr/local/lib/python3.6/dist-packages (from kaggle) (2.18.4)\r\n",
            "Requirement already satisfied: tqdm in /usr/local/lib/python3.6/dist-packages (from kaggle) (4.23.4)\r\n",
            "Requirement already satisfied: certifi in /usr/local/lib/python3.6/dist-packages (from kaggle) (2018.4.16)\r\n",
            "Requirement already satisfied: urllib3<1.23.0,>=1.15 in /usr/local/lib/python3.6/dist-packages (from kaggle) (1.22)\n",
            "Requirement already satisfied: six>=1.10 in /usr/local/lib/python3.6/dist-packages (from kaggle) (1.11.0)\n",
            "Requirement already satisfied: chardet<3.1.0,>=3.0.2 in /usr/local/lib/python3.6/dist-packages (from requests->kaggle) (3.0.4)\n",
            "Requirement already satisfied: idna<2.7,>=2.5 in /usr/local/lib/python3.6/dist-packages (from requests->kaggle) (2.6)\n"
          ],
          "name": "stdout"
        }
      ]
    },
    {
      "metadata": {
        "id": "0ngAuRi2AYhr",
        "colab_type": "code",
        "colab": {
          "base_uri": "https://localhost:8080/",
          "height": 34
        },
        "outputId": "16a512e0-3cf6-45f2-81e2-64354e3e7c9e"
      },
      "cell_type": "code",
      "source": [
        "from googleapiclient.discovery import build\n",
        "import io, os\n",
        "from googleapiclient.http import MediaIoBaseDownload\n",
        "from google.colab import auth\n",
        "auth.authenticate_user()\n",
        "drive_service = build('drive', 'v3')\n",
        "results = drive_service.files().list(\n",
        "        q=\"name = 'kaggle.json'\", fields=\"files(id)\").execute()\n",
        "kaggle_api_key = results.get('files', [])\n",
        "filename = \"/content/.kaggle/kaggle.json\"\n",
        "os.makedirs(os.path.dirname(filename), exist_ok=True)\n",
        "request = drive_service.files().get_media(fileId=kaggle_api_key[0]['id'])\n",
        "fh = io.FileIO(filename, 'wb')\n",
        "downloader = MediaIoBaseDownload(fh, request)\n",
        "done = False\n",
        "while done is False:\n",
        "    status, done = downloader.next_chunk()\n",
        "    print(\"Download %d%%.\" % int(status.progress() * 100))\n",
        "os.chmod(filename, 600)"
      ],
      "execution_count": 2,
      "outputs": [
        {
          "output_type": "stream",
          "text": [
            "Download 100%.\n"
          ],
          "name": "stdout"
        }
      ]
    },
    {
      "metadata": {
        "id": "RjxHFwwsAbbD",
        "colab_type": "code",
        "colab": {
          "base_uri": "https://localhost:8080/",
          "height": 391
        },
        "outputId": "9dcedd31-08ff-4ca1-d0c3-026741752bf7"
      },
      "cell_type": "code",
      "source": [
        "!kaggle competitions list"
      ],
      "execution_count": 3,
      "outputs": [
        {
          "output_type": "stream",
          "text": [
            "ref                                             deadline             category            reward  teamCount  userHasEntered  \r\n",
            "----------------------------------------------  -------------------  ---------------  ---------  ---------  --------------  \r\n",
            "house-prices-advanced-regression-techniques     2030-01-01 00:00:00  Getting Started  Knowledge       4958           False  \r\n",
            "digit-recognizer                                2030-01-01 00:00:00  Getting Started  Knowledge       2782           False  \r\n",
            "titanic                                         2030-01-01 00:00:00  Getting Started  Knowledge      11303            True  \r\n",
            "imagenet-object-detection-challenge             2029-12-31 07:00:00  Research         Knowledge          0           False  \r\n",
            "imagenet-object-detection-from-video-challenge  2029-12-31 07:00:00  Research         Knowledge          0           False  \r\n",
            "imagenet-object-localization-challenge          2029-12-31 07:00:00  Research         Knowledge         16           False  \r\n",
            "competitive-data-science-predict-future-sales   2019-01-01 23:59:00  Playground           Kudos        799           False  \r\n",
            "flavours-of-physics-kernels-only                2018-09-24 23:59:00  Playground       Knowledge          2           False  \r\n",
            "forest-cover-type-kernels-only                  2018-09-24 23:59:00  Playground       Knowledge         10           False  \r\n",
            "whats-cooking-kernels-only                      2018-09-24 23:59:00  Playground       Knowledge          6           False  \r\n",
            "movie-review-sentiment-analysis-kernels-only    2018-09-24 23:59:00  Playground       Knowledge          9           False  \r\n",
            "home-credit-default-risk                        2018-08-29 23:59:00  Featured           $70,000       3244           False  \r\n",
            "santander-value-prediction-challenge            2018-08-20 23:59:00  Featured           $60,000       1091           False  \r\n",
            "trackml-particle-identification                 2018-08-13 23:59:00  Featured           $25,000        449           False  \r\n",
            "youtube8m-2018                                  2018-08-06 23:59:00  Featured           $25,000        265           False  \r\n",
            "freesound-audio-tagging                         2018-07-31 23:59:00  Research         Knowledge        451           False  \r\n",
            "whale-categorization-playground                 2018-07-09 23:59:00  Playground           Kudos        443           False  \r\n",
            "avito-demand-prediction                         2018-06-27 23:59:00  Featured           $25,000       1845           False  \r\n",
            "cvpr-2018-autonomous-driving                    2018-06-11 23:59:00  Research            $2,500        145           False  \r\n",
            "inaturalist-2018                                2018-06-04 23:59:00  Research             Kudos         59           False  \r\n"
          ],
          "name": "stdout"
        }
      ]
    },
    {
      "metadata": {
        "id": "RGOCmLHSAeIU",
        "colab_type": "code",
        "colab": {
          "base_uri": "https://localhost:8080/",
          "height": 170
        },
        "outputId": "665683b7-660c-4ed2-b953-776d62693b43"
      },
      "cell_type": "code",
      "source": [
        "!kaggle competitions download  -c digit-recognizer -p /content/digit_recogniser/kaggle"
      ],
      "execution_count": 5,
      "outputs": [
        {
          "output_type": "stream",
          "text": [
            "Downloading train.csv to /content/digit_recogniser/kaggle\n",
            " 70%|██████████████████████████▍           | 51.0M/73.2M [00:00<00:00, 50.0MB/s]\n",
            "100%|███████████████████████████████████████| 73.2M/73.2M [00:00<00:00, 156MB/s]\n",
            "Downloading test.csv to /content/digit_recogniser/kaggle\n",
            " 62%|███████████████████████▍              | 30.0M/48.8M [00:00<00:00, 40.8MB/s]\n",
            "100%|███████████████████████████████████████| 48.8M/48.8M [00:00<00:00, 147MB/s]\n",
            "Downloading sample_submission.csv to /content/digit_recogniser/kaggle\n",
            "  0%|                                                | 0.00/235k [00:00<?, ?B/s]\n",
            "100%|█████████████████████████████████████████| 235k/235k [00:00<00:00, 161MB/s]\n"
          ],
          "name": "stdout"
        }
      ]
    },
    {
      "metadata": {
        "id": "-dNWeJttAmPQ",
        "colab_type": "code",
        "colab": {
          "base_uri": "https://localhost:8080/",
          "height": 37
        },
        "outputId": "3eab2b78-3e77-44ae-b526-5644170905ac"
      },
      "cell_type": "code",
      "source": [
        "import pandas as pd\n",
        "train = pd.read_csv('/content/digit_recogniser/kaggle/train.csv', header=0, sep=',', quotechar='\"')\n",
        "test = pd.read_csv('/content/digit_recogniser/kaggle/test.csv', header=0, sep=',', quotechar='\"')"
      ],
      "execution_count": 23,
      "outputs": []
    },
    {
      "metadata": {
        "id": "6h1-SHjpA26M",
        "colab_type": "code",
        "colab": {
          "base_uri": "https://localhost:8080/",
          "height": 34
        },
        "outputId": "3b43a4f0-570f-432e-8d0b-912908bb0a2a"
      },
      "cell_type": "code",
      "source": [
        "Y_train = train[\"label\"]\n",
        "# Drop 'label' column\n",
        "X_train = train.drop(labels = [\"label\"],axis = 1) \n",
        "Y_train.shape"
      ],
      "execution_count": 25,
      "outputs": [
        {
          "output_type": "execute_result",
          "data": {
            "text/plain": [
              "(42000,)"
            ]
          },
          "metadata": {
            "tags": []
          },
          "execution_count": 25
        }
      ]
    },
    {
      "metadata": {
        "id": "UlLjCrfcBmcn",
        "colab_type": "code",
        "colab": {
          "base_uri": "https://localhost:8080/",
          "height": 37
        },
        "outputId": "93b4f02b-83cc-47a1-f5a8-ddf65330758a"
      },
      "cell_type": "code",
      "source": [
        "import matplotlib.pyplot as plt\n",
        "import matplotlib.image as mpimg\n",
        "import seaborn as sns\n",
        "%matplotlib inline"
      ],
      "execution_count": 26,
      "outputs": []
    },
    {
      "metadata": {
        "id": "1c4BysPzCFYH",
        "colab_type": "code",
        "colab": {
          "base_uri": "https://localhost:8080/",
          "height": 500
        },
        "outputId": "9560a83d-2509-4ccd-b816-1895456d25b3"
      },
      "cell_type": "code",
      "source": [
        "g = sns.countplot(Y_train)\n",
        "\n",
        "Y_train.value_counts()"
      ],
      "execution_count": 27,
      "outputs": [
        {
          "output_type": "stream",
          "text": [
            "/usr/local/lib/python3.6/dist-packages/seaborn/categorical.py:1428: FutureWarning: remove_na is deprecated and is a private function. Do not use.\n",
            "  stat_data = remove_na(group_data)\n"
          ],
          "name": "stderr"
        },
        {
          "output_type": "execute_result",
          "data": {
            "text/plain": [
              "1    4684\n",
              "7    4401\n",
              "3    4351\n",
              "9    4188\n",
              "2    4177\n",
              "6    4137\n",
              "0    4132\n",
              "4    4072\n",
              "8    4063\n",
              "5    3795\n",
              "Name: label, dtype: int64"
            ]
          },
          "metadata": {
            "tags": []
          },
          "execution_count": 27
        },
        {
          "output_type": "display_data",
          "data": {
            "image/png": "[encoded data removed]",
            "text/plain": [
              "<matplotlib.figure.Figure at 0x7fad419f4278>"
            ]
          },
          "metadata": {
            "tags": []
          }
        }
      ]
    },
    {
      "metadata": {
        "id": "HDIarjuICILt",
        "colab_type": "code",
        "colab": {
          "base_uri": "https://localhost:8080/",
          "height": 102
        },
        "outputId": "12d1b241-86bd-4af0-8458-574cae11a46c"
      },
      "cell_type": "code",
      "source": [
        "X_train.isnull().any().describe()\n"
      ],
      "execution_count": 28,
      "outputs": [
        {
          "output_type": "execute_result",
          "data": {
            "text/plain": [
              "count       784\n",
              "unique        1\n",
              "top       False\n",
              "freq        784\n",
              "dtype: object"
            ]
          },
          "metadata": {
            "tags": []
          },
          "execution_count": 28
        }
      ]
    },
    {
      "metadata": {
        "id": "w-hFdGujCOOX",
        "colab_type": "code",
        "colab": {
          "base_uri": "https://localhost:8080/",
          "height": 37
        },
        "outputId": "d1af59bb-37f5-4c28-8805-bffa7fa1c467"
      },
      "cell_type": "code",
      "source": [
        "X_train = X_train / 255.0\n",
        "test = test / 255.0"
      ],
      "execution_count": 29,
      "outputs": []
    },
    {
      "metadata": {
        "id": "6ajWxF66CVvZ",
        "colab_type": "code",
        "colab": {
          "base_uri": "https://localhost:8080/",
          "height": 37
        },
        "outputId": "741e0f0d-2a0d-4dd3-f097-878b3e407669"
      },
      "cell_type": "code",
      "source": [
        "X_train = X_train.values.reshape(-1,28,28,1)\n",
        "test = test.values.reshape(-1,28,28,1)"
      ],
      "execution_count": 30,
      "outputs": []
    },
    {
      "metadata": {
        "id": "8PuwE4emCYGV",
        "colab_type": "code",
        "colab": {
          "base_uri": "https://localhost:8080/",
          "height": 37
        },
        "outputId": "101c3fd0-f586-4c70-c012-bc83f3dacd13"
      },
      "cell_type": "code",
      "source": [
        "import numpy as np\n",
        "np.random.seed(2)\n",
        "\n",
        "from sklearn.model_selection import train_test_split\n",
        "from sklearn.metrics import confusion_matrix\n",
        "import itertools\n",
        "\n",
        "from keras.utils.np_utils import to_categorical # convert to one-hot-encoding\n",
        "from keras.models import Sequential\n",
        "from keras.layers import Dense, Dropout, Flatten, Conv2D, MaxPool2D\n",
        "from keras.optimizers import RMSprop\n",
        "from keras.preprocessing.image import ImageDataGenerator\n",
        "from keras.callbacks import ReduceLROnPlateau"
      ],
      "execution_count": 31,
      "outputs": []
    },
    {
      "metadata": {
        "id": "VStbH8WPClYW",
        "colab_type": "code",
        "colab": {
          "base_uri": "https://localhost:8080/",
          "height": 34
        },
        "outputId": "95cb79fe-9dde-4958-f68c-4e6c7cd35497"
      },
      "cell_type": "code",
      "source": [
        "Y_train = to_categorical(Y_train, num_classes = 10)\n",
        "Y_train.shape"
      ],
      "execution_count": 32,
      "outputs": [
        {
          "output_type": "execute_result",
          "data": {
            "text/plain": [
              "(42000, 10)"
            ]
          },
          "metadata": {
            "tags": []
          },
          "execution_count": 32
        }
      ]
    },
    {
      "metadata": {
        "id": "yhFretyeCvTs",
        "colab_type": "code",
        "colab": {
          "base_uri": "https://localhost:8080/",
          "height": 34
        },
        "outputId": "0c45fb1b-1041-4a54-cc85-e4732e7c93de"
      },
      "cell_type": "code",
      "source": [
        "random_seed = 2\n",
        "X_train, X_val, Y_train, Y_val = train_test_split(X_train, Y_train, test_size = 0.1, random_state=random_seed)\n",
        "Y_train.shape"
      ],
      "execution_count": 34,
      "outputs": [
        {
          "output_type": "execute_result",
          "data": {
            "text/plain": [
              "(34020, 10)"
            ]
          },
          "metadata": {
            "tags": []
          },
          "execution_count": 34
        }
      ]
    },
    {
      "metadata": {
        "id": "VMKmYX1AC5GF",
        "colab_type": "code",
        "colab": {
          "base_uri": "https://localhost:8080/",
          "height": 265
        },
        "outputId": "3c0a3b0f-c8a4-4415-ce51-848893b9cf5c"
      },
      "cell_type": "code",
      "source": [
        "g = plt.imshow(X_train[0][:,:,0])"
      ],
      "execution_count": 35,
      "outputs": [
        {
          "output_type": "display_data",
          "data": {
            "image/png": "[encoded data removed]",
            "text/plain": [
              "<matplotlib.figure.Figure at 0x7fad41a960b8>"
            ]
          },
          "metadata": {
            "tags": []
          }
        }
      ]
    },
    {
      "metadata": {
        "id": "qcIx3ugBDDqm",
        "colab_type": "code",
        "colab": {
          "base_uri": "https://localhost:8080/",
          "height": 37
        },
        "outputId": "99724dfc-11a2-4ee7-924e-ad4e5c523ce0"
      },
      "cell_type": "code",
      "source": [
        "model = Sequential()\n",
        "\n",
        "model.add(Conv2D(filters = 32, kernel_size = (5,5),padding = 'Same', \n",
        "                 activation ='relu', input_shape = (28,28,1)))\n",
        "model.add(Conv2D(filters = 32, kernel_size = (5,5),padding = 'Same', \n",
        "                 activation ='relu'))\n",
        "model.add(MaxPool2D(pool_size=(2,2)))\n",
        "model.add(Dropout(0.25))\n",
        "\n",
        "\n",
        "model.add(Conv2D(filters = 64, kernel_size = (3,3),padding = 'Same', \n",
        "                 activation ='relu'))\n",
        "model.add(Conv2D(filters = 64, kernel_size = (3,3),padding = 'Same', \n",
        "                 activation ='relu'))\n",
        "model.add(MaxPool2D(pool_size=(2,2), strides=(2,2)))\n",
        "model.add(Dropout(0.25))\n",
        "\n",
        "\n",
        "model.add(Flatten())\n",
        "model.add(Dense(256, activation = \"relu\"))\n",
        "model.add(Dropout(0.5))\n",
        "model.add(Dense(10, activation = \"softmax\"))"
      ],
      "execution_count": 36,
      "outputs": []
    },
    {
      "metadata": {
        "id": "kVoEm7_KDOzY",
        "colab_type": "code",
        "colab": {
          "base_uri": "https://localhost:8080/",
          "height": 37
        },
        "outputId": "0eff4739-c551-4db8-a028-e61a8310fe65"
      },
      "cell_type": "code",
      "source": [
        "optimizer = RMSprop(lr=0.001, rho=0.9, epsilon=1e-08, decay=0.0)"
      ],
      "execution_count": 37,
      "outputs": []
    },
    {
      "metadata": {
        "id": "aamIOc0UDUwX",
        "colab_type": "code",
        "colab": {
          "base_uri": "https://localhost:8080/",
          "height": 37
        },
        "outputId": "963011ce-256f-46d2-f495-48d8efcc716c"
      },
      "cell_type": "code",
      "source": [
        "model.compile(optimizer = optimizer , loss = \"categorical_crossentropy\", metrics=[\"accuracy\"])"
      ],
      "execution_count": 38,
      "outputs": []
    },
    {
      "metadata": {
        "id": "_RdUu9vZDWTy",
        "colab_type": "code",
        "colab": {
          "base_uri": "https://localhost:8080/",
          "height": 37
        },
        "outputId": "94ed4c1d-f591-40bd-bd36-b9d4aa5a28a6"
      },
      "cell_type": "code",
      "source": [
        "learning_rate_reduction = ReduceLROnPlateau(monitor='val_acc', \n",
        "                                            patience=3, \n",
        "                                            verbose=1, \n",
        "                                            factor=0.5, \n",
        "                                            min_lr=0.00001)"
      ],
      "execution_count": 18,
      "outputs": []
    },
    {
      "metadata": {
        "id": "BbXcHgVVDbR4",
        "colab_type": "code",
        "colab": {
          "base_uri": "https://localhost:8080/",
          "height": 34
        },
        "outputId": "0030baf5-0f54-4c59-f4b7-8b93fcc66e91"
      },
      "cell_type": "code",
      "source": [
        "epochs = 30 # Turn epochs to 30 to get 0.9967 accuracy\n",
        "batch_size = 86\n",
        "Y_train.shape"
      ],
      "execution_count": 42,
      "outputs": [
        {
          "output_type": "execute_result",
          "data": {
            "text/plain": [
              "(34020, 10)"
            ]
          },
          "metadata": {
            "tags": []
          },
          "execution_count": 42
        }
      ]
    },
    {
      "metadata": {
        "id": "nWlTugVRDczl",
        "colab_type": "code",
        "colab": {
          "base_uri": "https://localhost:8080/",
          "height": 1054
        },
        "outputId": "84d6344d-ed61-43bc-cb64-c6657d37cfda"
      },
      "cell_type": "code",
      "source": [
        "# Without data augmentation i obtained an accuracy of 0.98114\n",
        "history = model.fit(X_train, Y_train, batch_size = batch_size, epochs = epochs, validation_data = (X_val, Y_val), verbose = 2)"
      ],
      "execution_count": 43,
      "outputs": [
        {
          "output_type": "stream",
          "text": [
            "Train on 34020 samples, validate on 3780 samples\n",
            "Epoch 1/30\n",
            " - 7s - loss: 0.0754 - acc: 0.9776 - val_loss: 0.0573 - val_acc: 0.9831\n",
            "Epoch 2/30\n",
            " - 8s - loss: 0.0559 - acc: 0.9837 - val_loss: 0.0511 - val_acc: 0.9873\n",
            "Epoch 3/30\n",
            " - 7s - loss: 0.0435 - acc: 0.9864 - val_loss: 0.0481 - val_acc: 0.9868\n",
            "Epoch 4/30\n",
            " - 7s - loss: 0.0395 - acc: 0.9880 - val_loss: 0.0396 - val_acc: 0.9889\n",
            "Epoch 5/30\n",
            " - 7s - loss: 0.0363 - acc: 0.9896 - val_loss: 0.0450 - val_acc: 0.9902\n",
            "Epoch 6/30\n",
            " - 7s - loss: 0.0322 - acc: 0.9902 - val_loss: 0.0411 - val_acc: 0.9913\n",
            "Epoch 7/30\n",
            " - 7s - loss: 0.0322 - acc: 0.9904 - val_loss: 0.0418 - val_acc: 0.9897\n",
            "Epoch 8/30\n",
            " - 7s - loss: 0.0305 - acc: 0.9912 - val_loss: 0.0500 - val_acc: 0.9894\n",
            "Epoch 9/30\n",
            " - 7s - loss: 0.0261 - acc: 0.9918 - val_loss: 0.0494 - val_acc: 0.9907\n",
            "Epoch 10/30\n",
            " - 7s - loss: 0.0265 - acc: 0.9923 - val_loss: 0.0427 - val_acc: 0.9899\n",
            "Epoch 11/30\n",
            " - 7s - loss: 0.0259 - acc: 0.9925 - val_loss: 0.0465 - val_acc: 0.9915\n",
            "Epoch 12/30\n",
            " - 7s - loss: 0.0239 - acc: 0.9928 - val_loss: 0.0545 - val_acc: 0.9889\n",
            "Epoch 13/30\n",
            " - 7s - loss: 0.0250 - acc: 0.9925 - val_loss: 0.0442 - val_acc: 0.9910\n",
            "Epoch 14/30\n",
            " - 7s - loss: 0.0232 - acc: 0.9933 - val_loss: 0.0463 - val_acc: 0.9894\n",
            "Epoch 15/30\n",
            " - 7s - loss: 0.0233 - acc: 0.9935 - val_loss: 0.0414 - val_acc: 0.9899\n",
            "Epoch 16/30\n",
            " - 7s - loss: 0.0242 - acc: 0.9932 - val_loss: 0.0461 - val_acc: 0.9910\n",
            "Epoch 17/30\n",
            " - 7s - loss: 0.0239 - acc: 0.9933 - val_loss: 0.0464 - val_acc: 0.9892\n",
            "Epoch 18/30\n",
            " - 7s - loss: 0.0270 - acc: 0.9927 - val_loss: 0.0373 - val_acc: 0.9921\n",
            "Epoch 19/30\n",
            " - 7s - loss: 0.0262 - acc: 0.9934 - val_loss: 0.0436 - val_acc: 0.9894\n",
            "Epoch 20/30\n",
            " - 7s - loss: 0.0269 - acc: 0.9931 - val_loss: 0.0489 - val_acc: 0.9899\n",
            "Epoch 21/30\n",
            " - 7s - loss: 0.0265 - acc: 0.9927 - val_loss: 0.0542 - val_acc: 0.9897\n",
            "Epoch 22/30\n",
            " - 7s - loss: 0.0252 - acc: 0.9930 - val_loss: 0.0593 - val_acc: 0.9907\n",
            "Epoch 23/30\n",
            " - 7s - loss: 0.0274 - acc: 0.9929 - val_loss: 0.0639 - val_acc: 0.9886\n",
            "Epoch 24/30\n",
            " - 7s - loss: 0.0277 - acc: 0.9929 - val_loss: 0.0471 - val_acc: 0.9899\n",
            "Epoch 25/30\n",
            " - 7s - loss: 0.0288 - acc: 0.9929 - val_loss: 0.0422 - val_acc: 0.9894\n",
            "Epoch 26/30\n",
            " - 7s - loss: 0.0244 - acc: 0.9934 - val_loss: 0.0685 - val_acc: 0.9897\n",
            "Epoch 27/30\n",
            " - 7s - loss: 0.0289 - acc: 0.9928 - val_loss: 0.0551 - val_acc: 0.9902\n",
            "Epoch 28/30\n",
            " - 7s - loss: 0.0283 - acc: 0.9929 - val_loss: 0.0647 - val_acc: 0.9876\n",
            "Epoch 29/30\n",
            " - 7s - loss: 0.0305 - acc: 0.9925 - val_loss: 0.0468 - val_acc: 0.9899\n",
            "Epoch 30/30\n",
            " - 7s - loss: 0.0294 - acc: 0.9927 - val_loss: 0.0529 - val_acc: 0.9899\n"
          ],
          "name": "stdout"
        }
      ]
    },
    {
      "metadata": {
        "id": "PPlG_sdxD7rk",
        "colab_type": "code",
        "colab": {
          "base_uri": "https://localhost:8080/",
          "height": 265
        },
        "outputId": "a157731f-b891-4df6-a9b9-8fd0a0e501bf"
      },
      "cell_type": "code",
      "source": [
        "fig, ax = plt.subplots(2,1)\n",
        "ax[0].plot(history.history['loss'], color='b', label=\"Training loss\")\n",
        "ax[0].plot(history.history['val_loss'], color='r', label=\"validation loss\",axes =ax[0])\n",
        "legend = ax[0].legend(loc='best', shadow=True)\n",
        "\n",
        "ax[1].plot(history.history['acc'], color='b', label=\"Training accuracy\")\n",
        "ax[1].plot(history.history['val_acc'], color='r',label=\"Validation accuracy\")\n",
        "legend = ax[1].legend(loc='best', shadow=True)"
      ],
      "execution_count": 44,
      "outputs": [
        {
          "output_type": "display_data",
          "data": {
            "image/png": "[encoded data removed]",
            "text/plain": [
              "<matplotlib.figure.Figure at 0x7fad3caa5a58>"
            ]
          },
          "metadata": {
            "tags": []
          }
        }
      ]
    },
    {
      "metadata": {
        "id": "OyoAhGWkGLHR",
        "colab_type": "code",
        "colab": {
          "base_uri": "https://localhost:8080/",
          "height": 238
        },
        "outputId": "762e3111-2d9e-40cc-955e-1ee6d02e8abf"
      },
      "cell_type": "code",
      "source": [
        "results = model.predict(test)\n",
        "results"
      ],
      "execution_count": 49,
      "outputs": [
        {
          "output_type": "execute_result",
          "data": {
            "text/plain": [
              "array([[3.0076687e-16, 5.5408139e-18, 1.0000000e+00, ..., 6.0940599e-14,\n",
              "        2.6032037e-12, 5.4588722e-16],\n",
              "       [1.0000000e+00, 1.8867967e-14, 8.3377509e-09, ..., 7.7732569e-12,\n",
              "        5.5321848e-11, 6.4395662e-11],\n",
              "       [5.8103591e-16, 9.3259059e-13, 3.0067412e-10, ..., 2.1520952e-09,\n",
              "        4.0464315e-07, 9.9991930e-01],\n",
              "       ...,\n",
              "       [0.0000000e+00, 8.5145960e-28, 1.1660760e-23, ..., 3.8619368e-24,\n",
              "        6.7641756e-22, 4.6616177e-25],\n",
              "       [1.5627144e-19, 4.0230394e-20, 6.2567114e-18, ..., 3.2590868e-13,\n",
              "        2.0367323e-13, 1.0000000e+00],\n",
              "       [2.0643573e-23, 1.7922334e-21, 1.0000000e+00, ..., 2.3205117e-18,\n",
              "        2.0599742e-13, 1.0577611e-18]], dtype=float32)"
            ]
          },
          "metadata": {
            "tags": []
          },
          "execution_count": 49
        }
      ]
    },
    {
      "metadata": {
        "id": "45G5-9KcHVgt",
        "colab_type": "code",
        "colab": {
          "base_uri": "https://localhost:8080/",
          "height": 34
        },
        "outputId": "d5da8663-35b7-4555-844a-93bcb5798ae4"
      },
      "cell_type": "code",
      "source": [
        "results = np.argmax(results,axis = 1)\n",
        "results"
      ],
      "execution_count": 50,
      "outputs": [
        {
          "output_type": "execute_result",
          "data": {
            "text/plain": [
              "array([2, 0, 9, ..., 3, 9, 2])"
            ]
          },
          "metadata": {
            "tags": []
          },
          "execution_count": 50
        }
      ]
    },
    {
      "metadata": {
        "id": "EybrtL2SHYiD",
        "colab_type": "code",
        "colab": {
          "base_uri": "https://localhost:8080/",
          "height": 37
        },
        "outputId": "51542893-83b6-415c-b79c-3ccac77480a5"
      },
      "cell_type": "code",
      "source": [
        "results = pd.Series(results,name=\"Label\")"
      ],
      "execution_count": 52,
      "outputs": []
    },
    {
      "metadata": {
        "id": "p6Qg_OcUHakM",
        "colab_type": "code",
        "colab": {
          "base_uri": "https://localhost:8080/",
          "height": 17
        },
        "outputId": "d6265161-ec92-429b-890b-1b93c7426aed"
      },
      "cell_type": "code",
      "source": [
        "submission = pd.concat([pd.Series(range(1,28001),name = \"ImageId\"),results],axis = 1)"
      ],
      "execution_count": 53,
      "outputs": []
    },
    {
      "metadata": {
        "id": "jHeSlHFeHbdP",
        "colab_type": "code",
        "colab": {
          "base_uri": "https://localhost:8080/",
          "height": 17
        },
        "outputId": "e5c30bb4-ffc4-40d6-8329-26e0620de260"
      },
      "cell_type": "code",
      "source": [
        "submission.to_csv(\"cnn_mnist_datagen.csv\",index=False)"
      ],
      "execution_count": 54,
      "outputs": []
    },
    {
      "metadata": {
        "id": "TLGP-iPTJgV4",
        "colab_type": "code",
        "colab": {
          "base_uri": "https://localhost:8080/",
          "height": 34
        },
        "outputId": "ea4c3bd4-c368-4e74-c706-b4f1d927778d"
      },
      "cell_type": "code",
      "source": [
        "!kaggle competitions submit -c digit-recognizer -f cnn_mnist_datagen.csv -m \"submission\" "
      ],
      "execution_count": 60,
      "outputs": [
        {
          "output_type": "stream",
          "text": [
            "Successfully submitted to Digit Recognizer"
          ],
          "name": "stdout"
        }
      ]
    },
    {
      "metadata": {
        "id": "RQuxmkElNF10",
        "colab_type": "code",
        "colab": {}
      },
      "cell_type": "code",
      "source": [
        ""
      ],
      "execution_count": 0,
      "outputs": []
    }
  ]
}